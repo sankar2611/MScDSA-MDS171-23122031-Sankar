{
 "cells": [
  {
   "cell_type": "code",
   "execution_count": 2,
   "metadata": {},
   "outputs": [
    {
     "name": "stdout",
     "output_type": "stream",
     "text": [
      "\n",
      "Student Management System\n",
      "1. Add Student\n",
      "2. Update Student Marks\n",
      "3. Display Student Information\n",
      "4. Exit\n"
     ]
    },
    {
     "name": "stderr",
     "output_type": "stream",
     "text": [
      "C:\\Users\\sanka\\AppData\\Local\\Temp\\ipykernel_23612\\4115808554.py:8: FutureWarning: The behavior of DataFrame concatenation with empty or all-NA entries is deprecated. In a future version, this will no longer exclude empty or all-NA columns when determining the result dtypes. To retain the old behavior, exclude the relevant entries before the concat operation.\n",
      "  self.students_df = pd.concat([self.students_df, new_student], ignore_index=True)\n"
     ]
    },
    {
     "name": "stdout",
     "output_type": "stream",
     "text": [
      "Student added successfully.\n",
      "\n",
      "Student Management System\n",
      "1. Add Student\n",
      "2. Update Student Marks\n",
      "3. Display Student Information\n",
      "4. Exit\n",
      "  StudentID    Name  Marks\n",
      "0  23122031  Sankar   25.0\n",
      "\n",
      "Student Management System\n",
      "1. Add Student\n",
      "2. Update Student Marks\n",
      "3. Display Student Information\n",
      "4. Exit\n",
      "Exiting the program.\n"
     ]
    }
   ],
   "source": [
    "import pandas as pd\n",
    "class StudentManager:\n",
    "    def __init__(self):\n",
    "        self.students_df = pd.DataFrame(columns=['StudentID', 'Name', 'Marks'])\n",
    "\n",
    "    def add_student(self, student_id, name, marks):\n",
    "        new_student = pd.DataFrame({'StudentID': [student_id], 'Name': [name], 'Marks': [marks]})\n",
    "        self.students_df = pd.concat([self.students_df, new_student], ignore_index=True)\n",
    "\n",
    "    def update_marks(self, student_id, new_marks):\n",
    "        index = self.students_df[self.students_df['StudentID'] == student_id].index\n",
    "        if not index.empty:\n",
    "            self.students_df.at[index[0], 'Marks'] = new_marks\n",
    "        else:\n",
    "            print(\"Student not found\")\n",
    "\n",
    "    def display_student_info(self):\n",
    "        print(self.students_df)\n",
    "\n",
    "def main():\n",
    "    student_manager = StudentManager()\n",
    "    \n",
    "    while True:\n",
    "        print(\"\\nStudent Management System\")\n",
    "        print(\"1. Add Student\")\n",
    "        print(\"2. Update Student Marks\")\n",
    "        print(\"3. Display Student Information\")\n",
    "        print(\"4. Exit\")\n",
    "        \n",
    "        choice = input(\"Enter your choice: \")\n",
    "        \n",
    "        if choice == '1':\n",
    "            student_id = int(input(\"Enter Student ID: \"))\n",
    "            name = input(\"Enter Student Name: \")\n",
    "            marks = float(input(\"Enter Student Marks: \"))\n",
    "            student_manager.add_student(student_id, name, marks)\n",
    "            print(\"Student added successfully.\")\n",
    "        \n",
    "        elif choice == '2':\n",
    "            student_id = int(input(\"Enter Student ID: \"))\n",
    "            new_marks = float(input(\"Enter new marks: \"))\n",
    "            student_manager.update_marks(student_id, new_marks)\n",
    "        \n",
    "        elif choice == '3':\n",
    "            student_manager.display_student_info()\n",
    "        \n",
    "        elif choice == '4':\n",
    "            print(\"Exiting the program.\")\n",
    "            break\n",
    "        \n",
    "        else:\n",
    "            print(\"Invalid choice. Please try again.\")\n",
    "\n",
    "if __name__ == '__main__':\n",
    "    main()"
   ]
  }
 ],
 "metadata": {
  "kernelspec": {
   "display_name": "Python 3",
   "language": "python",
   "name": "python3"
  },
  "language_info": {
   "codemirror_mode": {
    "name": "ipython",
    "version": 3
   },
   "file_extension": ".py",
   "mimetype": "text/x-python",
   "name": "python",
   "nbconvert_exporter": "python",
   "pygments_lexer": "ipython3",
   "version": "3.11.4"
  }
 },
 "nbformat": 4,
 "nbformat_minor": 2
}
