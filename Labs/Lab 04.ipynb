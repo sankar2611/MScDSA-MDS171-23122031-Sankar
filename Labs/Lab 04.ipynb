{
 "cells": [
  {
   "cell_type": "code",
   "execution_count": null,
   "metadata": {},
   "outputs": [],
   "source": [
    "def writerestaurantDetails(food,quantity,price,total):\n",
    "    orderDetails = open(\"customerdetails.txt\",\"a+\")\n",
    "    orderDetails.write(\"\\n\"+food+\",\"+str(quantity)+\",\"+str(price)+\",\"+str(total))\n",
    "    orderDetails.close()\n",
    "    return True\n",
    "\n",
    "print(\"Menu\"+\"\\n\"+\"*\"*10+\"\\n1.Food1\\n2.Food2\\n3.Food3\\n4.Food4\\n5.Food5\\n6.Food6\")\n",
    "food= input(\"Enter the item number:\")\n",
    "quantity = int(input(\"Enter the quantity:\"))\n",
    "price=[150,110,100,50,30,40]\n",
    "fooditems=[\"Food1\",\"Food2\",\"Food3\",\"Food4\",\"Food5\",\"Food6\"]\n",
    "total = quantity*price[int(food)-1]\n",
    "foodname=fooditems[int(food)-1]\n",
    "ret = writerestaurantDetails(foodname,quantity,price[int(food)-1],total)   \n",
    "if ret:\n",
    "    print(\"Your details are saved..\\n\")\n",
    "    pricet=0\n",
    "    ordert=0\n",
    "    for data in open(\"customerdetails.txt\",\"r+\").readlines():\n",
    "        read=data.split(\",\")\n",
    "        if read[0]==\"Food Item\":\n",
    "            print(read[0]+\" \"*7+read[1]+\" \"*6+read[2]+\" \"*8+read[3])\n",
    "        else:\n",
    "            print(read[0]+\" \"*15+read[1]+\" \"*10+read[2]+\" \"*10+read[3])\n",
    "            pricet=pricet+int(read[3])\n",
    "            ordert=ordert+int(read[1])\n",
    "else:\n",
    "     print(\"Some error occured..!\")\n",
    "print(\"\\nOrders Summary:\\nThe total orders= \",ordert,\"\\nThe total income= \",pricet)"
   ]
  },
  {
   "cell_type": "code",
   "execution_count": null,
   "metadata": {},
   "outputs": [],
   "source": [
    "file=open(\"customerdetails.txt\",\"w+\")\n",
    "file.write(\"Food Item,Quantity,Price,Total Price\")\n",
    "file.close()"
   ]
  },
  {
   "cell_type": "markdown",
   "metadata": {},
   "source": [
    "I added the order details to the file as per the customer's order, and then noted down the total orders and the respective income which is is my analytical part."
   ]
  }
 ],
 "metadata": {
  "kernelspec": {
   "display_name": "Python 3",
   "language": "python",
   "name": "python3"
  },
  "language_info": {
   "codemirror_mode": {
    "name": "ipython",
    "version": 3
   },
   "file_extension": ".py",
   "mimetype": "text/x-python",
   "name": "python",
   "nbconvert_exporter": "python",
   "pygments_lexer": "ipython3",
   "version": "3.11.4"
  },
  "orig_nbformat": 4
 },
 "nbformat": 4,
 "nbformat_minor": 2
}
