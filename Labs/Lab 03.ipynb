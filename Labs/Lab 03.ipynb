{
 "cells": [
  {
   "cell_type": "markdown",
   "metadata": {},
   "source": [
    "Lab 03             \n",
    "Program to find mean, minimum, maximum and range for the set of given values."
   ]
  },
  {
   "cell_type": "code",
   "execution_count": 4,
   "metadata": {},
   "outputs": [
    {
     "name": "stdout",
     "output_type": "stream",
     "text": [
      "MEAN VALUE = 542.94\n",
      "MINIMUM VALUE = 17\n",
      "MAXIMUM VALUE = 999\n",
      "RANGE FOR THE GIVEN LIST = 982\n",
      "\n",
      "Values using predefined function:\n",
      "Mean value = 542.94\n",
      "Maximum value = 999\n",
      "Minimum = 17\n",
      "Range = 982\n"
     ]
    }
   ],
   "source": [
    "def mean(n):\n",
    "    count = 0\n",
    "    sum= 0\n",
    "    for i in n:\n",
    "        count = count + 1\n",
    "        sum = sum + i\n",
    "        avg = sum / count\n",
    "    return avg \n",
    "\n",
    "def minimum(n):\n",
    "    l=100000\n",
    "    for i in n:\n",
    "        if i < l:\n",
    "            l = i\n",
    "    return l\n",
    "\n",
    "def maximum(n):\n",
    "    a=0\n",
    "    for i in n:\n",
    "        if i > a:\n",
    "            a = i\n",
    "    return a\n",
    "\n",
    "\n",
    "n = [761, 123, 585, 275, 194, 840, 999, 622, 763, 40, 825, 687, 402, 338, 611, 987, 739, 95, 819, 568, 320, 126, 688, 948, 514, 223, 751, 379, 857, 767, 492, 162, 437, 934, 430, 343, 725, 511, 580, 678, 708, 823, 346, 179, 786, 663, 195, 890, 267, 502, 214, 300, 786, 961, 235, 559, 992, 919, 948, 318, 57, 787, 653, 317, 305, 172, 966, 182, 970, 17, 89, 624, 629, 595, 485, 752, 984, 978, 460, 124, 321, 256, 614, 852, 811, 561, 127, 207, 406, 615, 888, 391, 691, 470, 911, 401, 137, 600, 478, 682]\n",
    "mean(n)\n",
    "minimum(n)\n",
    "maximum(n)\n",
    "RANGE = maximum(n) - minimum(n) \n",
    "print(\"MEAN VALUE =\",mean(n))\n",
    "print(\"MINIMUM VALUE =\",minimum(n))\n",
    "print(\"MAXIMUM VALUE =\",maximum(n))\n",
    "print(\"RANGE FOR THE GIVEN LIST =\",RANGE)\n",
    "print(\"\\nValues using predefined function:\")\n",
    "print(\"Mean value =\",sum(n)/len(n))\n",
    "print(\"Maximum value =\",max(n))\n",
    "print(\"Minimum =\",min(n))\n",
    "print(\"Range =\",max(n)-min(n))"
   ]
  },
  {
   "cell_type": "markdown",
   "metadata": {},
   "source": [
    "we can see that result from both functions are same, so we can use either."
   ]
  }
 ],
 "metadata": {
  "kernelspec": {
   "display_name": "Python 3",
   "language": "python",
   "name": "python3"
  },
  "language_info": {
   "codemirror_mode": {
    "name": "ipython",
    "version": 3
   },
   "file_extension": ".py",
   "mimetype": "text/x-python",
   "name": "python",
   "nbconvert_exporter": "python",
   "pygments_lexer": "ipython3",
   "version": "3.11.4"
  },
  "orig_nbformat": 4
 },
 "nbformat": 4,
 "nbformat_minor": 2
}
