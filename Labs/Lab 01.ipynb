{
 "cells": [
  {
   "cell_type": "code",
   "execution_count": 20,
   "metadata": {},
   "outputs": [
    {
     "name": "stdout",
     "output_type": "stream",
     "text": [
      "hani\n",
      "hani\n",
      "\n"
     ]
    }
   ],
   "source": [
    "name = str(input(\"Enter your name : \"))\n",
    "times = int(input(\"Enter the number of times : \"))\n",
    "output = (name+\"\\n\") * times\n",
    "print(output)"
   ]
  },
  {
   "cell_type": "code",
   "execution_count": 21,
   "metadata": {},
   "outputs": [
    {
     "name": "stdout",
     "output_type": "stream",
     "text": [
      "nina\n",
      "nina\n",
      "nina\n",
      "nina\n",
      "nina\n",
      "\n"
     ]
    }
   ],
   "source": [
    "name = str(input(\"Enter your name : \"))\n",
    "times = int(input(\"Enter the number of times : \"))\n",
    "output = (name+\"\\n\") * times\n",
    "print(output)"
   ]
  },
  {
   "cell_type": "code",
   "execution_count": 22,
   "metadata": {},
   "outputs": [
    {
     "name": "stdout",
     "output_type": "stream",
     "text": [
      "nemo\n",
      "nemo\n",
      "nemo\n",
      "nemo\n",
      "nemo\n",
      "nemo\n",
      "nemo\n",
      "\n"
     ]
    }
   ],
   "source": [
    "name = str(input(\"Enter your name : \"))\n",
    "times = int(input(\"Enter the number of times : \"))\n",
    "output = (name+\"\\n\") * times\n",
    "print(output)"
   ]
  },
  {
   "cell_type": "code",
   "execution_count": 6,
   "metadata": {},
   "outputs": [
    {
     "name": "stdout",
     "output_type": "stream",
     "text": [
      "Its Thursday\n"
     ]
    }
   ],
   "source": []
  },
  {
   "cell_type": "code",
   "execution_count": null,
   "metadata": {},
   "outputs": [],
   "source": []
  },
  {
   "cell_type": "code",
   "execution_count": null,
   "metadata": {},
   "outputs": [],
   "source": []
  }
 ],
 "metadata": {
  "kernelspec": {
   "display_name": "Python 3",
   "language": "python",
   "name": "python3"
  },
  "language_info": {
   "codemirror_mode": {
    "name": "ipython",
    "version": 3
   },
   "file_extension": ".py",
   "mimetype": "text/x-python",
   "name": "python",
   "nbconvert_exporter": "python",
   "pygments_lexer": "ipython3",
   "version": "3.11.4"
  },
  "orig_nbformat": 4
 },
 "nbformat": 4,
 "nbformat_minor": 2
}
