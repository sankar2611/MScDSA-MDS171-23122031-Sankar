{
 "cells": [
  {
   "cell_type": "code",
   "execution_count": null,
   "metadata": {},
   "outputs": [],
   "source": [
    "#user defined function.\n",
    "def name(n):\n",
    "    a = input(\"Enter a name\")\n",
    "    if a == \"q\":\n",
    "        n.sort()\n",
    "        print(n) # since the name is \"q\", the program prints all the values present in the list.\n",
    "        return #the function will get over here.\n",
    "    elif a in n:\n",
    "        print(\"Name already exists\")  #if an existing name is inputed, the program will indicate that this is an existing input/name\n",
    "        name(n)\n",
    "    elif len(a)==0 & a.isdigit():\n",
    "        print(\"Enter a valid name\")   #if the user input is blank or contains an int value, the function won't accept the input and ask the user to give another input.\n",
    "        name(n)\n",
    "    else:\n",
    "        n.append(a)   #if the name is against the above conditions, it will be stored in the list.\n",
    "        name(n)\n",
    "\n",
    "#main function.\n",
    "n = []    #this is the list of names of villagers which is blank at the begining.\n",
    "name(n)   #calling the function.\n",
    "n.sort()  \n",
    "print(\"Total number of names:\",len(n))  #this statement will provide us the total number of names stored in the list.\n",
    "count=0\n",
    "alp = input(\"Enter the alphabet for count:\")\n",
    "for i in n:\n",
    "    if i.startswith(alp):\n",
    "        count=count+1\n",
    "print(\"Total villagers with name starting with alphabet\",alp,\":\",count) #this statement will give us the number of names starting with a particular letter which will be user input."
   ]
  },
  {
   "cell_type": "markdown",
   "metadata": {},
   "source": [
    " I defined a user defined function named 'name'           \n",
    " then added the necessary inputs and assigned some pre-defined functions as per the requirement.                \n",
    " then in main function, I recalled the user defined function and analysed the total number of names stored in the list and also the number of names stating with a particular letter which is a user input."
   ]
  }
 ],
 "metadata": {
  "kernelspec": {
   "display_name": "Python 3",
   "language": "python",
   "name": "python3"
  },
  "language_info": {
   "codemirror_mode": {
    "name": "ipython",
    "version": 3
   },
   "file_extension": ".py",
   "mimetype": "text/x-python",
   "name": "python",
   "nbconvert_exporter": "python",
   "pygments_lexer": "ipython3",
   "version": "3.11.4"
  },
  "orig_nbformat": 4
 },
 "nbformat": 4,
 "nbformat_minor": 2
}
