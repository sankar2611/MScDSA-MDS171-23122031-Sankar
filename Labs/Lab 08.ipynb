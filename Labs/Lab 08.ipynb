{
 "cells": [
  {
   "cell_type": "code",
   "execution_count": 1,
   "metadata": {},
   "outputs": [
    {
     "name": "stdout",
     "output_type": "stream",
     "text": [
      "Matrix 1:\n",
      "1 2 \n",
      "Matrix 2:\n",
      "4 {'matrix 1': [[1, 2], [3, 4]], 'matrix 2': [[4], [7], [5], [8], [5]]}\n"
     ]
    }
   ],
   "source": [
    "def matrix1():\n",
    "    R = int(input(\"Enter the number of rows:\"))\n",
    "    C = int(input(\"Enter the number of columns:\"))\n",
    "    matrix = []\n",
    "    print(\"Matrix 1:\")\n",
    "    for i in range(R):\t\t \n",
    "        a =[]\n",
    "        for j in range(C):\t \n",
    "            a.append(int(input()))\n",
    "        matrix.append(a)\n",
    "    for i in range(R):\n",
    "        for j in range(C):\n",
    "            print(matrix[i][j], end = \" \")\n",
    "        return matrix\n",
    "\n",
    "def matrix2():\n",
    "    R = int(input(\"Enter the number of rows:\"))\n",
    "    C = int(input(\"Enter the number of columns:\"))\n",
    "    matrix = []\n",
    "    print(\"\\nMatrix 2:\")\n",
    "    for i in range(R):\t\t \n",
    "        a =[]\n",
    "        for j in range(C):\t \n",
    "            a.append(int(input()))\n",
    "        matrix.append(a)\n",
    "    for i in range(R):\n",
    "        for j in range(C):\n",
    "            print(matrix[i][j], end = \" \")\n",
    "        return matrix\n",
    "\n",
    "matrix_1 = matrix1()\n",
    "matrix_2 = matrix2()\n",
    "save = {\n",
    "    \"matrix 1\": matrix_1,\n",
    "    \"matrix 2\": matrix_2\n",
    "}\n",
    "'\\n' \n",
    "print(save)\n",
    "\n"
   ]
  },
  {
   "cell_type": "code",
   "execution_count": null,
   "metadata": {},
   "outputs": [],
   "source": [
    "result = []\n",
    "def resultmatrix():\n",
    "    for i in range(len(matrix1)):\n",
    "        row = []\n",
    "        for j in range(len(matrix2[0])):\n",
    "            entry = 0\n",
    "            for k in range(len(matrix2)):\n",
    "                entry += matrix1[i][k] * matrix2[k][j]\n",
    "            row.append(entry)\n",
    "        result.append(row)\n",
    "        return result\n",
    "resultmatrix()"
   ]
  }
 ],
 "metadata": {
  "kernelspec": {
   "display_name": "Python 3",
   "language": "python",
   "name": "python3"
  },
  "language_info": {
   "codemirror_mode": {
    "name": "ipython",
    "version": 3
   },
   "file_extension": ".py",
   "mimetype": "text/x-python",
   "name": "python",
   "nbconvert_exporter": "python",
   "pygments_lexer": "ipython3",
   "version": "3.11.4"
  },
  "orig_nbformat": 4
 },
 "nbformat": 4,
 "nbformat_minor": 2
}
