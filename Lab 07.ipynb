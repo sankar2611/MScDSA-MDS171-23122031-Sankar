{
 "cells": [
  {
   "cell_type": "code",
   "execution_count": null,
   "metadata": {},
   "outputs": [],
   "source": [
    "while True:\n",
    "    #os.system('cls')\n",
    "    print(\"*\"*30)\n",
    "    print(\"1.Enter a Name\")\n",
    "    print(\"2. List the Name\")\n",
    "    print(\"3. Search for a Name\")\n",
    "    print(\"4. Exit\")\n",
    "    print(\"*\"*30)\n"
   ]
  }
 ],
 "metadata": {
  "language_info": {
   "name": "python"
  },
  "orig_nbformat": 4
 },
 "nbformat": 4,
 "nbformat_minor": 2
}
