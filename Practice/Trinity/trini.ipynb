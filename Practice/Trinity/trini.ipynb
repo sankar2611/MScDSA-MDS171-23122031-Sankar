{
 "cells": [
  {
   "cell_type": "markdown",
   "metadata": {},
   "source": [
    "# Create a sportMart class, where you will have \n",
    "# -> inventory / shelf of items\n",
    "# -> Orders of customers\n",
    "\n",
    "# Create csv file which will store your inventory details and order details\n",
    "\n",
    "# with the help of file handling technqiues in python, read the file and create an object for trinity store and populate the inventory items and orders into the trinity store.\n",
    "\n",
    "# to make sure that you have added all the items in your file, use a display method to show your inventory and order history.\n",
    "\n",
    "\n",
    "\n",
    "\n",
    "#create a menu driven program that will create new orders and update the inventory accordingly\n",
    "#Export the final data on the file......"
   ]
  },
  {
   "cell_type": "code",
   "execution_count": 1,
   "metadata": {},
   "outputs": [
    {
     "name": "stdout",
     "output_type": "stream",
     "text": [
      "{'IN0001': {'productid': 'IN0001', 'productname': 'Bat', 'quantity': '10', 'price': '500'}, 'IN0002': {'productid': 'IN0002', 'productname': 'Ball', 'quantity': '50', 'price': '30'}, 'IN0003': {'productid': 'IN0003', 'productname': 'stumps', 'quantity': '10', 'price': '500'}, 'IN0004': {'productid': 'IN0004', 'productname': 'football', 'quantity': '50', 'price': '450'}, 'IN0005': {'productid': 'IN0005', 'productname': 'shoes', 'quantity': '100', 'price': '600'}}\n",
      "/Menu/\n",
      "1.Create an new order.\n",
      "2.update the inventory\n",
      "3.Display the inventory\n",
      "4.Exit\n",
      "Here is your order summary \n",
      " ORDERID: 23122047 \n",
      " PRODUCTID: IN0004 \n",
      " QUANTITY: 5 \n",
      " PRICE FOR ONE: 70 \n",
      " TOTAL BILL: 350\n",
      "/Menu/\n",
      "1.Create an new order.\n",
      "2.update the inventory\n",
      "3.Display the inventory\n",
      "4.Exit\n"
     ]
    }
   ],
   "source": [
    "import random\n",
    "class SportMart:\n",
    "    def __init__(self):\n",
    "        self.inventory = {}\n",
    "        self.orders = {}\n",
    "\n",
    "    def createInventory(self, ProductID, ProductName, Quantity, Price):\n",
    "        temp = {\n",
    "            \"productid\": ProductID,\n",
    "            \"productname\": ProductName,\n",
    "            \"quantity\": Quantity,\n",
    "            \"price\": Price\n",
    "        }\n",
    "        self.inventory[ProductID] = temp\n",
    "\n",
    "    def createOrder(self, Orderid, ProductID, Quantity, Price, Total):\n",
    "        temp = {\n",
    "            \"orderid\": Orderid,\n",
    "            \"productid\": ProductID,\n",
    "            \"quantity\": Quantity,\n",
    "            \"price\": Price,\n",
    "            \"total\": Total\n",
    "        }\n",
    "        self.orders[Orderid] = temp\n",
    "\n",
    "    def printOrders(self):\n",
    "        for i in self.inventory:\n",
    "            print(i)\n",
    "\n",
    "    def printInventory(self):\n",
    "        print(self.inventory)\n",
    "    def neworder(self):\n",
    "        orderid=23122046\n",
    "        for i in range(1):\n",
    "            orderid+=1\n",
    "        Productid=str(\"IN000\")+str(random.randint(0,5))\n",
    "        quantity=input(\"enter the quantity u require..\")\n",
    "        price=input()\n",
    "        total=int(quantity)*int(price)\n",
    "        self.createOrder(orderid,Productid,quantity,price,total)\n",
    "        print(\"Here is your order summary\",'\\n',\"ORDERID:\",orderid,'\\n',\"PRODUCTID:\",Productid,'\\n',\"QUANTITY:\",str(quantity),'\\n',\"PRICE FOR ONE:\",str(price),'\\n',\"TOTAL BILL:\",str(total))\n",
    "    \n",
    "    \n",
    "\n",
    "    \n",
    "\n",
    "trinity = SportMart()\n",
    "orders = open(\"Orderdetails.csv\", \"r+\")\n",
    "o_header = orders.readline()\n",
    "o_data = orders.readlines()\n",
    "for data in o_data:\n",
    "    tmp = data.strip().split(\",\")\n",
    "    trinity.createOrder(tmp[0], tmp[1], tmp[2], tmp[3], tmp[4])\n",
    "trinity.printOrders()\n",
    "\n",
    "invent = open(\"INVENTORY.csv\", \"r\")\n",
    "header = invent.readline()\n",
    "data = invent.readlines()\n",
    "for i in data:\n",
    "    don = i.strip().split(\",\")\n",
    "    trinity.createInventory(don[0], don[1], don[2], don[3])\n",
    "trinity.printInventory()\n",
    "\n",
    "while True:\n",
    "    print(\"/Menu/\")\n",
    "    print(\"1.Create an new order.\"+\"\\n\"+\"2.update the inventory\"+\"\\n\"+\"3.Display the inventory\"+\"\\n\"+\"4.Exit\")\n",
    "    \n",
    "    choice = input(\"enter an option b/w 1 to 5\")\n",
    "    if choice == \"1\":\n",
    "        trinity.neworder()\n",
    "    else:\n",
    "        break\n",
    "\n",
    "\n",
    "\n",
    "\n",
    "\n"
   ]
  },
  {
   "cell_type": "code",
   "execution_count": 14,
   "metadata": {},
   "outputs": [
    {
     "name": "stdout",
     "output_type": "stream",
     "text": [
      "{'lion': 'carnivore', 'dog': 'omnivore', 'giraffe': 'herbivore'}\n"
     ]
    }
   ],
   "source": [
    "class Animals: \n",
    "\n",
    "    def __init__(self): \n",
    "        self.lion = 'carnivore'\n",
    "        self.dog = 'omnivore'\n",
    "        self.giraffe = 'herbivore'\n",
    "\n",
    "animal = Animals() \n",
    "\n",
    "print(animal.__dict__) "
   ]
  },
  {
   "cell_type": "code",
   "execution_count": 17,
   "metadata": {},
   "outputs": [
    {
     "name": "stdout",
     "output_type": "stream",
     "text": [
      "{'id': '10', 'name': 'hani', 'age': '20'}\n"
     ]
    }
   ],
   "source": [
    "class student:\n",
    "    def __init__(self):\n",
    "        self.id = '10'\n",
    "        self.name = 'hani'\n",
    "        self.age = '20'\n",
    "\n",
    "a = student()\n",
    "print(a.__dict__)"
   ]
  },
  {
   "cell_type": "code",
   "execution_count": 18,
   "metadata": {},
   "outputs": [
    {
     "name": "stdout",
     "output_type": "stream",
     "text": [
      "dogs - Pitbull: Sold\n",
      "dogs - German: Not sold\n",
      "dogs - Lab: Sold\n",
      "cats - Abyssinian: Sold\n",
      "cats - American Bobtail: Not sold\n",
      "cats - American Cu: Sold\n",
      "fish - Koi: Not sold\n",
      "fish - Fighter: Not sold\n",
      "fish - Comet: Not sold\n",
      "---------------------------------------\n",
      "The breed is not available.\n",
      "The breed is not available.\n",
      "The breed or category is not found in the store.\n"
     ]
    }
   ],
   "source": [
    "class PetStore:\n",
    "    def __init__(self):\n",
    "        self.pet = {\n",
    "            \"dogs\": {\n",
    "                \"Pitbull\": \"Sold\",\n",
    "                \"German\": \"Not sold\",\n",
    "                \"Lab\": \"Sold\"\n",
    "            },\n",
    "            \"cats\": {\n",
    "                \"Abyssinian\": \"Sold\",\n",
    "                \"American Bobtail\": \"Not sold\",\n",
    "                \"American Cu\": \"Sold\"\n",
    "            },\n",
    "            \"fish\": {\n",
    "                \"Koi\": \"Not sold\",\n",
    "                \"Fighter\": \"Not sold\",\n",
    "                \"Comet\": \"Not sold\"\n",
    "            }\n",
    "        }\n",
    "\n",
    "    def display(self):\n",
    "        for category, pets in self.pet.items():\n",
    "            for breed, availability in pets.items():\n",
    "                print(f\"{category} - {breed}: {availability}\")\n",
    "        print(\"---------------------------------------\")\n",
    "\n",
    "    def sell(self):\n",
    "        breed = input(\"Enter the pet category you want to search - \").upper()\n",
    "        name = input(\"Enter the breed - \")\n",
    "        \n",
    "        if breed in self.pet and name in self.pet[breed]:\n",
    "            if self.pet[breed][name] == 'Sold':\n",
    "                print(f\"{name} is not available for adoption.\")\n",
    "            else:\n",
    "                print(f\"Thank you for adopting {name}.\")\n",
    "        else:\n",
    "            print(\"The breed is not available.\")\n",
    "\n",
    "    def search(self):\n",
    "        breed = input(\"Enter the pet category you want to search - \").upper()\n",
    "        name = input(\"Enter the breed - \")\n",
    "        \n",
    "        if breed in self.pet and name in self.pet[breed]:\n",
    "            print(f\"{name} is available in the {breed} category.\")\n",
    "        else:\n",
    "            print(\"The breed is not available.\")\n",
    "\n",
    "    def store(self):\n",
    "        breed = input(\"Enter the pet category you want to update - \").upper()\n",
    "        name = input(\"Enter the breed - \")\n",
    "        availability = input(\"Enter the availability (Sold or Not Sold) - \").capitalize()\n",
    "\n",
    "        if breed in self.pet and name in self.pet[breed]:\n",
    "            self.pet[breed][name] = availability\n",
    "            print(f\"{name} in the {breed} category is now marked as {availability}.\")\n",
    "        else:\n",
    "            print(\"The breed or category is not found in the store.\")\n",
    "\n",
    "a = PetStore()\n",
    "a.display()\n",
    "a.search()\n",
    "a.sell()\n",
    "a.store()\n",
    "\n"
   ]
  },
  {
   "cell_type": "code",
   "execution_count": 14,
   "metadata": {},
   "outputs": [
    {
     "name": "stdout",
     "output_type": "stream",
     "text": [
      "{'anme': {'a': 10, 'b': 456}}\n"
     ]
    }
   ],
   "source": [
    "a ={\n",
    "    \"anme\":{\"a\":10,\"b\":456}\n",
    "}\n",
    "print(a)"
   ]
  },
  {
   "cell_type": "code",
   "execution_count": 15,
   "metadata": {},
   "outputs": [
    {
     "name": "stdout",
     "output_type": "stream",
     "text": [
      "nothing\n"
     ]
    }
   ],
   "source": [
    "if a[\"anme\"][\"a\"]==0:\n",
    "    del a[\"anme\"][\"a\"]\n",
    "else:\n",
    "    print(\"nothing\")"
   ]
  },
  {
   "cell_type": "code",
   "execution_count": 16,
   "metadata": {},
   "outputs": [
    {
     "name": "stdout",
     "output_type": "stream",
     "text": [
      "{'anme': {'a': 10, 'b': 456}}\n"
     ]
    }
   ],
   "source": [
    "print(a)"
   ]
  },
  {
   "cell_type": "code",
   "execution_count": 19,
   "metadata": {},
   "outputs": [
    {
     "ename": "TypeError",
     "evalue": "createInventory() missing 4 required positional arguments: 'ProductID', 'ProductName', 'Quantity', and 'Price'",
     "output_type": "error",
     "traceback": [
      "\u001b[1;31m---------------------------------------------------------------------------\u001b[0m",
      "\u001b[1;31mTypeError\u001b[0m                                 Traceback (most recent call last)",
      "\u001b[1;32mc:\\Users\\sanka\\OneDrive\\Documents\\Python\\Practice\\Trinity\\trini.ipynb Cell 9\u001b[0m line \u001b[0;36m8\n\u001b[0;32m      <a href='vscode-notebook-cell:/c%3A/Users/sanka/OneDrive/Documents/Python/Practice/Trinity/trini.ipynb#X11sZmlsZQ%3D%3D?line=0'>1</a>\u001b[0m \u001b[39mdef\u001b[39;00m \u001b[39mcreateInventory\u001b[39m( ProductID, ProductName, Quantity, Price):\n\u001b[0;32m      <a href='vscode-notebook-cell:/c%3A/Users/sanka/OneDrive/Documents/Python/Practice/Trinity/trini.ipynb#X11sZmlsZQ%3D%3D?line=1'>2</a>\u001b[0m         temp \u001b[39m=\u001b[39m {\n\u001b[0;32m      <a href='vscode-notebook-cell:/c%3A/Users/sanka/OneDrive/Documents/Python/Practice/Trinity/trini.ipynb#X11sZmlsZQ%3D%3D?line=2'>3</a>\u001b[0m             \u001b[39m\"\u001b[39m\u001b[39mproductid\u001b[39m\u001b[39m\"\u001b[39m: ProductID,\n\u001b[0;32m      <a href='vscode-notebook-cell:/c%3A/Users/sanka/OneDrive/Documents/Python/Practice/Trinity/trini.ipynb#X11sZmlsZQ%3D%3D?line=3'>4</a>\u001b[0m             \u001b[39m\"\u001b[39m\u001b[39mproductname\u001b[39m\u001b[39m\"\u001b[39m: ProductName,\n\u001b[0;32m      <a href='vscode-notebook-cell:/c%3A/Users/sanka/OneDrive/Documents/Python/Practice/Trinity/trini.ipynb#X11sZmlsZQ%3D%3D?line=4'>5</a>\u001b[0m             \u001b[39m\"\u001b[39m\u001b[39mquantity\u001b[39m\u001b[39m\"\u001b[39m: Quantity,\n\u001b[0;32m      <a href='vscode-notebook-cell:/c%3A/Users/sanka/OneDrive/Documents/Python/Practice/Trinity/trini.ipynb#X11sZmlsZQ%3D%3D?line=5'>6</a>\u001b[0m             \u001b[39m\"\u001b[39m\u001b[39mprice\u001b[39m\u001b[39m\"\u001b[39m: Price\n\u001b[0;32m      <a href='vscode-notebook-cell:/c%3A/Users/sanka/OneDrive/Documents/Python/Practice/Trinity/trini.ipynb#X11sZmlsZQ%3D%3D?line=6'>7</a>\u001b[0m         }\n\u001b[1;32m----> <a href='vscode-notebook-cell:/c%3A/Users/sanka/OneDrive/Documents/Python/Practice/Trinity/trini.ipynb#X11sZmlsZQ%3D%3D?line=7'>8</a>\u001b[0m createInventory()\n\u001b[0;32m      <a href='vscode-notebook-cell:/c%3A/Users/sanka/OneDrive/Documents/Python/Practice/Trinity/trini.ipynb#X11sZmlsZQ%3D%3D?line=8'>9</a>\u001b[0m \u001b[39mdef\u001b[39;00m \u001b[39mprintOrders\u001b[39m():\n\u001b[0;32m     <a href='vscode-notebook-cell:/c%3A/Users/sanka/OneDrive/Documents/Python/Practice/Trinity/trini.ipynb#X11sZmlsZQ%3D%3D?line=9'>10</a>\u001b[0m         \u001b[39mfor\u001b[39;00m i \u001b[39min\u001b[39;00m createInventory():\n",
      "\u001b[1;31mTypeError\u001b[0m: createInventory() missing 4 required positional arguments: 'ProductID', 'ProductName', 'Quantity', and 'Price'"
     ]
    }
   ],
   "source": [
    "def createInventory( ProductID, ProductName, Quantity, Price):\n",
    "        temp = {\n",
    "            \"productid\": ProductID,\n",
    "            \"productname\": ProductName,\n",
    "            \"quantity\": Quantity,\n",
    "            \"price\": Price\n",
    "        }\n",
    "createInventory()\n",
    "def printOrders():\n",
    "        for i in createInventory():\n",
    "            print(i)"
   ]
  },
  {
   "cell_type": "code",
   "execution_count": null,
   "metadata": {},
   "outputs": [],
   "source": []
  }
 ],
 "metadata": {
  "kernelspec": {
   "display_name": "Python 3",
   "language": "python",
   "name": "python3"
  },
  "language_info": {
   "codemirror_mode": {
    "name": "ipython",
    "version": 3
   },
   "file_extension": ".py",
   "mimetype": "text/x-python",
   "name": "python",
   "nbconvert_exporter": "python",
   "pygments_lexer": "ipython3",
   "version": "3.11.4"
  }
 },
 "nbformat": 4,
 "nbformat_minor": 2
}
