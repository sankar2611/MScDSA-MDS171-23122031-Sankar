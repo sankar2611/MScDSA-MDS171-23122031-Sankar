{
 "cells": [
  {
   "cell_type": "code",
   "execution_count": 1,
   "metadata": {},
   "outputs": [
    {
     "name": "stdout",
     "output_type": "stream",
     "text": [
      "Enter details for Student 1:\n",
      "Enter details for Student 2:\n",
      "Enter details for Student 3:\n",
      "Enter details for Student 4:\n",
      "Enter details for Student 5:\n",
      "\n",
      "Student 1 - Rahul (Class: MScEA)\n",
      "Average Marks: 74.80\n",
      "Math Grade: B\n",
      "Science Grade: A\n",
      "English Grade: F\n",
      "History Grade: A\n",
      "Art Grade: B\n",
      "\n",
      "Student 2 - Lak (Class: BSc)\n",
      "Average Marks: 71.80\n",
      "Math Grade: A\n",
      "Science Grade: A+\n",
      "English Grade: D\n",
      "History Grade: B\n",
      "Art Grade: F\n",
      "\n",
      "Student 3 - Ram (Class: BBA)\n",
      "Average Marks: 80.40\n",
      "Math Grade: D\n",
      "Science Grade: B\n",
      "English Grade: A\n",
      "History Grade: A+\n",
      "Art Grade: A\n",
      "\n",
      "Student 4 - Sankar (Class: BA)\n",
      "Average Marks: 73.60\n",
      "Math Grade: B\n",
      "Science Grade: A\n",
      "English Grade: B\n",
      "History Grade: C\n",
      "Art Grade: D\n",
      "\n",
      "Student 5 - Akshay (Class: MBA)\n",
      "Average Marks: 67.20\n",
      "Math Grade: F\n",
      "Science Grade: C\n",
      "English Grade: A\n",
      "History Grade: A+\n",
      "Art Grade: F\n"
     ]
    }
   ],
   "source": [
    "def calculate_grade(marks):\n",
    "    if marks >= 90:\n",
    "        return 'A+'\n",
    "    elif marks >= 80:\n",
    "        return 'A'\n",
    "    elif marks >= 70:\n",
    "        return 'B'\n",
    "    elif marks >= 60:\n",
    "        return 'C'\n",
    "    elif marks >= 50:\n",
    "        return 'D'\n",
    "    else:\n",
    "        return 'F'\n",
    "\n",
    "\n",
    "names = []\n",
    "classes = []\n",
    "math_marks = []\n",
    "science_marks = []\n",
    "english_marks = []\n",
    "history_marks = []\n",
    "art_marks = []\n",
    "\n",
    "for i in range(5):\n",
    "    print(f\"Enter details for Student {i + 1}:\")\n",
    "    name = input(\"Name: \")\n",
    "    class_name = input(\"Class: \")\n",
    "    math = float(input(\"Math Marks: \"))\n",
    "    science = float(input(\"Science Marks: \"))\n",
    "    english = float(input(\"English Marks: \"))\n",
    "    history = float(input(\"History Marks: \"))\n",
    "    art = float(input(\"Art Marks: \"))\n",
    "\n",
    "    names.append(name)\n",
    "    classes.append(class_name)\n",
    "    math_marks.append(math)\n",
    "    science_marks.append(science)\n",
    "    english_marks.append(english)\n",
    "    history_marks.append(history)\n",
    "    art_marks.append(art)\n",
    "\n",
    "for i in range(5):\n",
    "    print(f\"\\nStudent {i + 1} - {names[i]} (Class: {classes[i]})\")\n",
    "    avg_marks = (math_marks[i] + science_marks[i] + english_marks[i] + history_marks[i] + art_marks[i]) / 5\n",
    "    print(f\"Average Marks: {avg_marks:.2f}\")\n",
    "    print(f\"Math Grade: {calculate_grade(math_marks[i])}\")\n",
    "    print(f\"Science Grade: {calculate_grade(science_marks[i])}\")\n",
    "    print(f\"English Grade: {calculate_grade(english_marks[i])}\")\n",
    "    print(f\"History Grade: {calculate_grade(history_marks[i])}\")\n",
    "    print(f\"Art Grade: {calculate_grade(art_marks[i])}\")"
   ]
  },
  {
   "cell_type": "code",
   "execution_count": 5,
   "metadata": {},
   "outputs": [
    {
     "name": "stdout",
     "output_type": "stream",
     "text": [
      "<class 'complex'>\n"
     ]
    }
   ],
   "source": [
    "A=complex(1j)\n",
    "print(type(A))"
   ]
  },
  {
   "cell_type": "code",
   "execution_count": 11,
   "metadata": {},
   "outputs": [
    {
     "name": "stdout",
     "output_type": "stream",
     "text": [
      "1\n"
     ]
    }
   ],
   "source": [
    "a=[\"a\",\"b\",\"a\"]\n",
    "print(a.index(\"b\"))\n"
   ]
  },
  {
   "cell_type": "code",
   "execution_count": 12,
   "metadata": {},
   "outputs": [
    {
     "name": "stdout",
     "output_type": "stream",
     "text": [
      "2\n"
     ]
    }
   ],
   "source": [
    "print(a.count(\"a\"))"
   ]
  },
  {
   "cell_type": "code",
   "execution_count": 15,
   "metadata": {},
   "outputs": [
    {
     "name": "stdout",
     "output_type": "stream",
     "text": [
      "False\n"
     ]
    }
   ],
   "source": [
    "print(200<55)"
   ]
  },
  {
   "cell_type": "code",
   "execution_count": null,
   "metadata": {},
   "outputs": [],
   "source": [
    "bbreak={}\n"
   ]
  }
 ],
 "metadata": {
  "kernelspec": {
   "display_name": "Python 3",
   "language": "python",
   "name": "python3"
  },
  "language_info": {
   "codemirror_mode": {
    "name": "ipython",
    "version": 3
   },
   "file_extension": ".py",
   "mimetype": "text/x-python",
   "name": "python",
   "nbconvert_exporter": "python",
   "pygments_lexer": "ipython3",
   "version": "3.11.4"
  },
  "orig_nbformat": 4
 },
 "nbformat": 4,
 "nbformat_minor": 2
}
