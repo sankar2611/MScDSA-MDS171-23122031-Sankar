{
 "cells": [
  {
   "cell_type": "markdown",
   "metadata": {},
   "source": [
    "# write a python program with the foll specs                                                   \n",
    "# there will b a function named createdataset which will have a dictionary, filename, no. of rows as arguments \n",
    "# the dict is having the foll sturcture (\n",
    "    \"col name\" : [ domain and values ]\n",
    "    \"\"\n",
    ")\n",
    "# ur funct will select random values from each of the domain and create a row for you\n",
    "# the no. of rows that has to be created is the parameter.....save the file with the req no. of rows....\n",
    "# load this dataset using pandas and diplay basic details... "
   ]
  },
  {
   "cell_type": "code",
   "execution_count": 3,
   "metadata": {},
   "outputs": [
    {
     "name": "stdout",
     "output_type": "stream",
     "text": [
      "<function createdataset at 0x000001EC4F6C0C20>\n"
     ]
    }
   ],
   "source": [
    "def createdataset():\n",
    "    col={\n",
    "        \"product\":[\"AC\",\"TV\",\"AIR COOLER\",\"IRON BOX\",\"CHARGER\",\"COMPUTER\"],\n",
    "        \"price\":[50000,40000,10000,1500,1000,100000],\n",
    "        \"stock\":[4,5,8,1,10,5],\n",
    "        \"warranty\":[3,5,2,1,1,5]\n",
    "    }\n",
    "print(createdataset)   "
   ]
  },
  {
   "cell_type": "code",
   "execution_count": 4,
   "metadata": {},
   "outputs": [
    {
     "name": "stdout",
     "output_type": "stream",
     "text": [
      "Shape:\n",
      "(999999, 4)\n",
      "\n",
      "Size:\n",
      "3999996\n",
      "\n",
      "Head:\n",
      "    ID     Name  Age        Salary\n",
      "0  483      Bob   37  36529.439351\n",
      "1  103      Bob   52  78921.412234\n",
      "2  156      Bob   28  72024.104145\n",
      "3  426  Charlie   32  62838.987290\n",
      "4  876    Alice   21  42881.556320\n",
      "\n",
      "Tail:\n",
      "         ID     Name  Age        Salary\n",
      "999994  805  Charlie   25  59230.835042\n",
      "999995  398  Charlie   41  63787.618512\n",
      "999996  330      Bob   47  76378.413297\n",
      "999997  882      Bob   45  44623.572625\n",
      "999998  412    Alice   38  57443.695492\n"
     ]
    }
   ],
   "source": [
    "import pandas as pd\n",
    "import random\n",
    "\n",
    "def create_dataset(data_dict, filename, num_rows):\n",
    "    # Create a dictionary to store the data for each column\n",
    "    dataset = {}\n",
    "    \n",
    "    # Generate random data for each column based on the provided domain and values\n",
    "    for col_name, domain_values in data_dict.items():\n",
    "        domain = domain_values[0]\n",
    "        values = domain_values[1]\n",
    "        \n",
    "        if domain == \"int\":\n",
    "            dataset[col_name] = [random.randint(*values) for _ in range(num_rows)]\n",
    "        elif domain == \"float\":\n",
    "            dataset[col_name] = [random.uniform(*values) for _ in range(num_rows)]\n",
    "        elif domain == \"str\":\n",
    "            dataset[col_name] = [random.choice(values) for _ in range(num_rows)]\n",
    "\n",
    "    # Create a DataFrame from the generated data\n",
    "    df = pd.DataFrame(dataset)\n",
    "    \n",
    "    # Save the DataFrame to a CSV file\n",
    "    file_path = f\"{filename}_{num_rows}.csv\"\n",
    "    df.to_csv(file_path, index=False)\n",
    "    \n",
    "    return file_path\n",
    "\n",
    "def load_and_display_info(file_path):\n",
    "    # Load the dataset using pandas\n",
    "    df = pd.read_csv(file_path)\n",
    "    \n",
    "    # Display basic information\n",
    "    print(\"Shape:\")\n",
    "    print(df.shape)\n",
    "    print(\"\\nSize:\")\n",
    "    print(df.size)\n",
    "    print(\"\\nHead:\")\n",
    "    print(df.head())\n",
    "    print(\"\\nTail:\")\n",
    "    print(df.tail())\n",
    "\n",
    "# Example usage\n",
    "data_dict = {\n",
    "    \"ID\": [\"int\", (1, 1000)],\n",
    "    \"Name\": [\"str\", [\"Alice\", \"Bob\", \"Charlie\"]],\n",
    "    \"Age\": [\"int\", (18, 60)],\n",
    "    \"Salary\": [\"float\", (30000, 80000)]\n",
    "}\n",
    "filename = \"sample_dataset\"\n",
    "num_rows = 999999\n",
    "\n",
    "file_path = create_dataset(data_dict, filename, num_rows)\n",
    "load_and_display_info(file_path)"
   ]
  }
 ],
 "metadata": {
  "kernelspec": {
   "display_name": "Python 3",
   "language": "python",
   "name": "python3"
  },
  "language_info": {
   "codemirror_mode": {
    "name": "ipython",
    "version": 3
   },
   "file_extension": ".py",
   "mimetype": "text/x-python",
   "name": "python",
   "nbconvert_exporter": "python",
   "pygments_lexer": "ipython3",
   "version": "3.11.4"
  }
 },
 "nbformat": 4,
 "nbformat_minor": 2
}
