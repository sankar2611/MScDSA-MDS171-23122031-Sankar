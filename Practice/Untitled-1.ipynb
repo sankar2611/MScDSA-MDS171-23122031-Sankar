{
 "cells": [
  {
   "cell_type": "code",
   "execution_count": 8,
   "metadata": {},
   "outputs": [
    {
     "name": "stdout",
     "output_type": "stream",
     "text": [
      "10\n"
     ]
    }
   ],
   "source": [
    "n=int(input(\"enter a number\"))\n",
    "sum =0\n",
    "for i in range(0,n+1):\n",
    "    sum = sum + i\n",
    "print(sum)"
   ]
  },
  {
   "cell_type": "code",
   "execution_count": 16,
   "metadata": {},
   "outputs": [
    {
     "name": "stdout",
     "output_type": "stream",
     "text": [
      "[1, 2, 3, 4, 5, 6]\n",
      "1\n",
      "2\n",
      "3\n",
      "4\n",
      "5\n",
      "6\n",
      "1\n",
      "2\n",
      "3\n",
      "4\n",
      "5\n",
      "6\n"
     ]
    }
   ],
   "source": [
    "n=int(input())\n",
    "listnum=[]\n",
    "for i in range(1,n+1):\n",
    "    listnum.append(i)\n",
    "print(listnum)\n",
    "for i in listnum:\n",
    "    print(i)\n",
    "for i in range(0,n):\n",
    "    print(listnum[i])"
   ]
  },
  {
   "cell_type": "code",
   "execution_count": 30,
   "metadata": {},
   "outputs": [
    {
     "name": "stdout",
     "output_type": "stream",
     "text": [
      "13\n",
      "13\n"
     ]
    }
   ],
   "source": [
    "num=[1,2,5,4,8,3]\n",
    "numb=[5,7,8,9,3,8]\n",
    "for i in range(0,len(num)):\n",
    "    sum=num[i]+numb[i]\n",
    "    if sum>11 and not(sum%2==0):\n",
    "        print(sum)"
   ]
  },
  {
   "cell_type": "code",
   "execution_count": 38,
   "metadata": {},
   "outputs": [
    {
     "name": "stdout",
     "output_type": "stream",
     "text": [
      "14\n"
     ]
    }
   ],
   "source": [
    "s=str(input())\n",
    "r=str(input())\n",
    "print(int(s)+int(r))"
   ]
  },
  {
   "cell_type": "code",
   "execution_count": 49,
   "metadata": {},
   "outputs": [
    {
     "name": "stdout",
     "output_type": "stream",
     "text": [
      "s\n",
      "a\n",
      "n\n",
      "k\n",
      "a\n",
      "r\n",
      "6\n",
      "s\n",
      "n\n",
      "k\n",
      "r\n"
     ]
    }
   ],
   "source": [
    "a=str(input())\n",
    "length=0\n",
    "for i in a:\n",
    "    print(i)\n",
    "    length+=1\n",
    "print(length)\n",
    "for i in a:\n",
    "    if i==\"a\" or i ==\"i\" or i ==\"e\" or i ==\"o\" or i==\"u\":\n",
    "        pass\n",
    "    else:\n",
    "        print(i)"
   ]
  }
 ],
 "metadata": {
  "kernelspec": {
   "display_name": "Python 3",
   "language": "python",
   "name": "python3"
  },
  "language_info": {
   "codemirror_mode": {
    "name": "ipython",
    "version": 3
   },
   "file_extension": ".py",
   "mimetype": "text/x-python",
   "name": "python",
   "nbconvert_exporter": "python",
   "pygments_lexer": "ipython3",
   "version": "3.11.4"
  }
 },
 "nbformat": 4,
 "nbformat_minor": 2
}
