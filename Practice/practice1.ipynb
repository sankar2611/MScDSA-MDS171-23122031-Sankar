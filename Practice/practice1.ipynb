{
 "cells": [
  {
   "cell_type": "code",
   "execution_count": 5,
   "metadata": {},
   "outputs": [
    {
     "ename": "ModuleNotFoundError",
     "evalue": "No module named 'sklearn'",
     "output_type": "error",
     "traceback": [
      "\u001b[1;31m---------------------------------------------------------------------------\u001b[0m",
      "\u001b[1;31mModuleNotFoundError\u001b[0m                       Traceback (most recent call last)",
      "\u001b[1;32mc:\\Users\\sanka\\OneDrive\\Documents\\Python\\practice1.ipynb Cell 1\u001b[0m line \u001b[0;36m2\n\u001b[0;32m      <a href='vscode-notebook-cell:/c%3A/Users/sanka/OneDrive/Documents/Python/practice1.ipynb#W0sZmlsZQ%3D%3D?line=0'>1</a>\u001b[0m \u001b[39m# import load_iris function from datasets module\u001b[39;00m\n\u001b[1;32m----> <a href='vscode-notebook-cell:/c%3A/Users/sanka/OneDrive/Documents/Python/practice1.ipynb#W0sZmlsZQ%3D%3D?line=1'>2</a>\u001b[0m \u001b[39mfrom\u001b[39;00m \u001b[39msklearn\u001b[39;00m\u001b[39m.\u001b[39;00m\u001b[39mdatasets\u001b[39;00m \u001b[39mimport\u001b[39;00m load_iris\n",
      "\u001b[1;31mModuleNotFoundError\u001b[0m: No module named 'sklearn'"
     ]
    }
   ],
   "source": [
    "# import load_iris function from datasets module\n",
    "from sklearn.datasets import load_iris"
   ]
  },
  {
   "cell_type": "code",
   "execution_count": 4,
   "metadata": {},
   "outputs": [
    {
     "name": "stdout",
     "output_type": "stream",
     "text": [
      "Collecting sklearn\n",
      "  Downloading sklearn-0.0.post10.tar.gz (3.6 kB)\n",
      "  Installing build dependencies: started\n",
      "  Installing build dependencies: finished with status 'done'\n",
      "  Getting requirements to build wheel: started\n",
      "  Getting requirements to build wheel: finished with status 'done'\n",
      "  Preparing metadata (pyproject.toml): started\n",
      "  Preparing metadata (pyproject.toml): finished with status 'done'\n",
      "Building wheels for collected packages: sklearn\n",
      "  Building wheel for sklearn (pyproject.toml): started\n",
      "  Building wheel for sklearn (pyproject.toml): finished with status 'done'\n",
      "  Created wheel for sklearn: filename=sklearn-0.0.post10-py3-none-any.whl size=2981 sha256=12c79a5f2e60bb8ae53ea4f47d24478f49f16d6747d9829a3378d1cf20683d62\n",
      "  Stored in directory: c:\\users\\sanka\\appdata\\local\\pip\\cache\\wheels\\40\\ff\\aa\\d5ea39ea054381b6eccc737df85530f8637e17f02517284f3f\n",
      "Successfully built sklearn\n",
      "Installing collected packages: sklearn\n",
      "Successfully installed sklearn-0.0.post10\n",
      "Note: you may need to restart the kernel to use updated packages.\n"
     ]
    },
    {
     "name": "stderr",
     "output_type": "stream",
     "text": [
      "\n",
      "[notice] A new release of pip is available: 23.1.2 -> 23.2.1\n",
      "[notice] To update, run: python.exe -m pip install --upgrade pip\n"
     ]
    }
   ],
   "source": [
    "pip install sklearn"
   ]
  },
  {
   "cell_type": "code",
   "execution_count": 7,
   "metadata": {},
   "outputs": [
    {
     "name": "stdout",
     "output_type": "stream",
     "text": [
      "Requirement already satisfied: pip in c:\\users\\sanka\\appdata\\local\\programs\\python\\python311\\lib\\site-packages (23.1.2)\n",
      "Collecting pip\n",
      "  Downloading pip-23.3-py3-none-any.whl (2.1 MB)\n",
      "                                              0.0/2.1 MB ? eta -:--:--\n",
      "                                              0.0/2.1 MB 1.3 MB/s eta 0:00:02\n",
      "                                              0.0/2.1 MB 388.9 kB/s eta 0:00:06\n",
      "     --                                       0.1/2.1 MB 930.9 kB/s eta 0:00:03\n",
      "     ---                                      0.2/2.1 MB 978.3 kB/s eta 0:00:02\n",
      "     ----                                     0.2/2.1 MB 1.3 MB/s eta 0:00:02\n",
      "     -----                                    0.3/2.1 MB 1.2 MB/s eta 0:00:02\n",
      "     ------                                   0.3/2.1 MB 1.3 MB/s eta 0:00:02\n",
      "     ------                                   0.3/2.1 MB 1.3 MB/s eta 0:00:02\n",
      "     ------                                   0.3/2.1 MB 1.3 MB/s eta 0:00:02\n",
      "     ------                                   0.4/2.1 MB 849.3 kB/s eta 0:00:03\n",
      "     ------                                   0.4/2.1 MB 849.3 kB/s eta 0:00:03\n",
      "     --------                                 0.5/2.1 MB 853.3 kB/s eta 0:00:02\n",
      "     ---------                                0.5/2.1 MB 904.7 kB/s eta 0:00:02\n",
      "     ----------                               0.6/2.1 MB 948.1 kB/s eta 0:00:02\n",
      "     ------------                             0.6/2.1 MB 999.4 kB/s eta 0:00:02\n",
      "     -------------                            0.7/2.1 MB 1.0 MB/s eta 0:00:02\n",
      "     --------------                           0.8/2.1 MB 1.1 MB/s eta 0:00:02\n",
      "     ---------------                          0.8/2.1 MB 1.1 MB/s eta 0:00:02\n",
      "     ----------------                         0.9/2.1 MB 1.1 MB/s eta 0:00:02\n",
      "     ------------------                       1.0/2.1 MB 1.1 MB/s eta 0:00:01\n",
      "     -------------------                      1.0/2.1 MB 1.2 MB/s eta 0:00:01\n",
      "     --------------------                     1.1/2.1 MB 1.2 MB/s eta 0:00:01\n",
      "     ----------------------                   1.2/2.1 MB 1.2 MB/s eta 0:00:01\n",
      "     -----------------------                  1.2/2.1 MB 1.2 MB/s eta 0:00:01\n",
      "     ------------------------                 1.3/2.1 MB 1.3 MB/s eta 0:00:01\n",
      "     ------------------------                 1.3/2.1 MB 1.3 MB/s eta 0:00:01\n",
      "     --------------------------               1.4/2.1 MB 1.2 MB/s eta 0:00:01\n",
      "     ---------------------------              1.4/2.1 MB 1.3 MB/s eta 0:00:01\n",
      "     ---------------------------              1.5/2.1 MB 1.2 MB/s eta 0:00:01\n",
      "     -----------------------------            1.5/2.1 MB 1.2 MB/s eta 0:00:01\n",
      "     ------------------------------           1.6/2.1 MB 1.2 MB/s eta 0:00:01\n",
      "     --------------------------------         1.7/2.1 MB 1.3 MB/s eta 0:00:01\n",
      "     --------------------------------         1.7/2.1 MB 1.3 MB/s eta 0:00:01\n",
      "     ----------------------------------       1.8/2.1 MB 1.3 MB/s eta 0:00:01\n",
      "     -----------------------------------      1.9/2.1 MB 1.3 MB/s eta 0:00:01\n",
      "     -------------------------------------    2.0/2.1 MB 1.3 MB/s eta 0:00:01\n",
      "     --------------------------------------   2.0/2.1 MB 1.3 MB/s eta 0:00:01\n",
      "     ---------------------------------------  2.1/2.1 MB 1.3 MB/s eta 0:00:01\n",
      "     ---------------------------------------- 2.1/2.1 MB 1.3 MB/s eta 0:00:00\n",
      "Installing collected packages: pip\n",
      "  Attempting uninstall: pip\n",
      "    Found existing installation: pip 23.1.2\n",
      "    Uninstalling pip-23.1.2:\n",
      "      Successfully uninstalled pip-23.1.2\n",
      "Successfully installed pip-23.3\n",
      "Note: you may need to restart the kernel to use updated packages.\n"
     ]
    },
    {
     "name": "stderr",
     "output_type": "stream",
     "text": [
      "  WARNING: The scripts pip.exe, pip3.11.exe and pip3.exe are installed in 'c:\\Users\\sanka\\AppData\\Local\\Programs\\Python\\Python311\\Scripts' which is not on PATH.\n",
      "  Consider adding this directory to PATH or, if you prefer to suppress this warning, use --no-warn-script-location.\n"
     ]
    }
   ],
   "source": [
    "pip install --upgrade pip"
   ]
  },
  {
   "cell_type": "code",
   "execution_count": null,
   "metadata": {},
   "outputs": [],
   "source": []
  },
  {
   "cell_type": "code",
   "execution_count": null,
   "metadata": {},
   "outputs": [],
   "source": []
  }
 ],
 "metadata": {
  "kernelspec": {
   "display_name": "Python 3",
   "language": "python",
   "name": "python3"
  },
  "language_info": {
   "codemirror_mode": {
    "name": "ipython",
    "version": 3
   },
   "file_extension": ".py",
   "mimetype": "text/x-python",
   "name": "python",
   "nbconvert_exporter": "python",
   "pygments_lexer": "ipython3",
   "version": "3.11.4"
  }
 },
 "nbformat": 4,
 "nbformat_minor": 2
}
