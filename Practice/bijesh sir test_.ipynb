{
 "cells": [
  {
   "cell_type": "markdown",
   "metadata": {},
   "source": [
    "#Write a Python program that uses a while loop to print the numbers from 1 to 10.\n"
   ]
  },
  {
   "cell_type": "code",
   "execution_count": 1,
   "metadata": {},
   "outputs": [
    {
     "name": "stdout",
     "output_type": "stream",
     "text": [
      "1\n",
      "2\n",
      "3\n",
      "4\n",
      "5\n",
      "6\n",
      "7\n",
      "8\n",
      "9\n",
      "10\n"
     ]
    }
   ],
   "source": [
    "i =0\n",
    "while i in range(0,10):\n",
    "    i+=1\n",
    "    print(i)"
   ]
  },
  {
   "cell_type": "markdown",
   "metadata": {},
   "source": [
    "#Write a Python program that uses a for loop to calculate the sum of all numbers from 1 to 100.\n"
   ]
  },
  {
   "cell_type": "code",
   "execution_count": 18,
   "metadata": {},
   "outputs": [
    {
     "name": "stdout",
     "output_type": "stream",
     "text": [
      "5050\n"
     ]
    }
   ],
   "source": [
    "i =0\n",
    "sum=0\n",
    "for i in range(1,101):\n",
    "    sum =sum+i\n",
    "print(sum)\n"
   ]
  },
  {
   "cell_type": "markdown",
   "metadata": {},
   "source": [
    "#Create a dictionary called student_grades that stores the grades of three students (Alice, Bob, and Carol) for a test. Use their names as keys and assign random grades (e.g., out of 100) as values.\n"
   ]
  },
  {
   "cell_type": "code",
   "execution_count": 7,
   "metadata": {},
   "outputs": [
    {
     "name": "stdout",
     "output_type": "stream",
     "text": [
      "{'Alice': 100, 'Bob': 11, 'Carol': 80}\n",
      "Alice 26\n",
      "Bob 2\n",
      "Carol 6\n"
     ]
    }
   ],
   "source": [
    "import random\n",
    "student_grade={\n",
    "    \"Alice\":random.randint(1,100),\n",
    "    \"Bob\":random.randint(1,100),\n",
    "    \"Carol\":random.randint(1,100)\n",
    "}\n",
    "print(student_grade)\n",
    "\n",
    "\n",
    "\n",
    "for i in student_grade:\n",
    "    print(i,random.randint(1,100))\n"
   ]
  },
  {
   "cell_type": "markdown",
   "metadata": {},
   "source": [
    "#Write a Python program that takes a list of numbers as input and returns a new list containing only the even numbers from the original list.\n"
   ]
  },
  {
   "cell_type": "code",
   "execution_count": null,
   "metadata": {},
   "outputs": [],
   "source": [
    "size=int(input(\"Enter the number of inputs to be give:\"))\n",
    "num=[0]*size\n",
    "for i in range(0,size):\n",
    "    num[i]=int(input(\"Enter value\"))\n",
    "even=[]\n",
    "for i in range(0,size):\n",
    "    if num[i]%2==0:\n",
    "        even.append(num[i])\n",
    "print(even)"
   ]
  },
  {
   "cell_type": "code",
   "execution_count": 11,
   "metadata": {},
   "outputs": [
    {
     "ename": "TypeError",
     "evalue": "not all arguments converted during string formatting",
     "output_type": "error",
     "traceback": [
      "\u001b[1;31m---------------------------------------------------------------------------\u001b[0m",
      "\u001b[1;31mTypeError\u001b[0m                                 Traceback (most recent call last)",
      "\u001b[1;32mc:\\Users\\sanka\\OneDrive\\Documents\\Python\\bijesh sir test_.ipynb Cell 9\u001b[0m line \u001b[0;36m1\n\u001b[0;32m      <a href='vscode-notebook-cell:/c%3A/Users/sanka/OneDrive/Documents/Python/bijesh%20sir%20test_.ipynb#X11sZmlsZQ%3D%3D?line=8'>9</a>\u001b[0m even_number\u001b[39m=\u001b[39m[]\n\u001b[0;32m     <a href='vscode-notebook-cell:/c%3A/Users/sanka/OneDrive/Documents/Python/bijesh%20sir%20test_.ipynb#X11sZmlsZQ%3D%3D?line=9'>10</a>\u001b[0m \u001b[39mfor\u001b[39;00m i \u001b[39min\u001b[39;00m number:\n\u001b[1;32m---> <a href='vscode-notebook-cell:/c%3A/Users/sanka/OneDrive/Documents/Python/bijesh%20sir%20test_.ipynb#X11sZmlsZQ%3D%3D?line=10'>11</a>\u001b[0m     \u001b[39mif\u001b[39;00m i\u001b[39m%\u001b[39;49m\u001b[39m2\u001b[39;49m\u001b[39m==\u001b[39m\u001b[39m0\u001b[39m:\n\u001b[0;32m     <a href='vscode-notebook-cell:/c%3A/Users/sanka/OneDrive/Documents/Python/bijesh%20sir%20test_.ipynb#X11sZmlsZQ%3D%3D?line=11'>12</a>\u001b[0m      even_number\u001b[39m.\u001b[39mappend(i)\n\u001b[0;32m     <a href='vscode-notebook-cell:/c%3A/Users/sanka/OneDrive/Documents/Python/bijesh%20sir%20test_.ipynb#X11sZmlsZQ%3D%3D?line=12'>13</a>\u001b[0m     \u001b[39melse\u001b[39;00m:\n",
      "\u001b[1;31mTypeError\u001b[0m: not all arguments converted during string formatting"
     ]
    }
   ],
   "source": [
    "while True:\n",
    "    number=input()\n",
    "    numbers=[]\n",
    "    if number==0:\n",
    "        exit()\n",
    "    else:\n",
    "        numbers=[]\n",
    "        numbers.append(number)\n",
    "        even_number=[]\n",
    "        for i in number:\n",
    "            if i%2==0:\n",
    "             even_number.append(i)\n",
    "            else:\n",
    "               pass\n",
    "    print(even_number)"
   ]
  },
  {
   "cell_type": "code",
   "execution_count": null,
   "metadata": {},
   "outputs": [],
   "source": []
  }
 ],
 "metadata": {
  "kernelspec": {
   "display_name": "Python 3",
   "language": "python",
   "name": "python3"
  },
  "language_info": {
   "codemirror_mode": {
    "name": "ipython",
    "version": 3
   },
   "file_extension": ".py",
   "mimetype": "text/x-python",
   "name": "python",
   "nbconvert_exporter": "python",
   "pygments_lexer": "ipython3",
   "version": "3.11.4"
  },
  "orig_nbformat": 4
 },
 "nbformat": 4,
 "nbformat_minor": 2
}
