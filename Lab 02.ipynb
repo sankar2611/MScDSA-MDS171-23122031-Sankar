{
 "cells": [
  {
   "cell_type": "code",
   "execution_count": null,
   "metadata": {},
   "outputs": [],
   "source": [
    "def name(n):\n",
    "    a = input(\"Enter a name\")\n",
    "    \n",
    "    if a == \"q\":\n",
    "        return\n",
    "    elif a in n:\n",
    "        print(\"Name already exists\")\n",
    "        name(n)\n",
    "    elif len(a)==0 & a.isdigit():\n",
    "        print(\"Enter a valid name\")\n",
    "        name(n)\n",
    "    else:\n",
    "        n.append(a)\n",
    "        name(n)\n",
    "\n",
    "n = []\n",
    "name(n)\n",
    "n.sort()\n",
    "print(\"Total number of villagers:\",len(n))\n",
    "exit()"
   ]
  },
  {
   "cell_type": "markdown",
   "metadata": {},
   "source": [
    "# I defined a user defined function named 'name'\n",
    "## then added the necessary inputrs and assigned some pre-defined functions as per the requiremnet.\n",
    "### then in main function, we recalled our user defined function and analysed the total number of villagers as per the input"
   ]
  }
 ],
 "metadata": {
  "language_info": {
   "name": "python"
  },
  "orig_nbformat": 4
 },
 "nbformat": 4,
 "nbformat_minor": 2
}
