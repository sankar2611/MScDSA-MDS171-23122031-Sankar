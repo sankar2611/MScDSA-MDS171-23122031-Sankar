{
 "cells": [
  {
   "cell_type": "code",
   "execution_count": 3,
   "metadata": {},
   "outputs": [
    {
     "name": "stdout",
     "output_type": "stream",
     "text": [
      "['Tel', 'Tol', 'Tru']\n",
      "Total number of villagers: 3\n",
      "Total villagers with name starting with alphabet  T is  3\n"
     ]
    }
   ],
   "source": [
    "def name(n):\n",
    "    a = input(\"Enter a name\")\n",
    "    \n",
    "    if a == \"q\":\n",
    "        n.sort()\n",
    "        print(n)\n",
    "        return\n",
    "    elif a in n:\n",
    "        print(\"Name already exists\")\n",
    "        name(n)\n",
    "    elif len(a)==0 & a.isdigit():\n",
    "        print(\"Enter a valid name\")\n",
    "        name(n)\n",
    "    else:\n",
    "        n.append(a)\n",
    "        name(n)\n",
    "\n",
    "n = []\n",
    "name(n)\n",
    "n.sort()\n",
    "print(\"Total number of villagers:\",len(n))\n",
    "count=0\n",
    "alp = input(\"Enter the alphabet for count: \")\n",
    "for i in n:\n",
    "    if i.startswith(alp):\n",
    "        count=count+1\n",
    "print(\"Total villagers with name starting with alphabet \",alp,\"is \",count)"
   ]
  },
  {
   "cell_type": "markdown",
   "metadata": {},
   "source": [
    " I defined a user defined function named 'name'           \n",
    " then added the necessary inputs and assigned some pre-defined functions as per the requirement.                \n",
    " then in main function, I recalled the user defined function and analysed the total number of villagers as per the input"
   ]
  }
 ],
 "metadata": {
  "kernelspec": {
   "display_name": "Python 3",
   "language": "python",
   "name": "python3"
  },
  "language_info": {
   "codemirror_mode": {
    "name": "ipython",
    "version": 3
   },
   "file_extension": ".py",
   "mimetype": "text/x-python",
   "name": "python",
   "nbconvert_exporter": "python",
   "pygments_lexer": "ipython3",
   "version": "3.11.4"
  },
  "orig_nbformat": 4
 },
 "nbformat": 4,
 "nbformat_minor": 2
}
