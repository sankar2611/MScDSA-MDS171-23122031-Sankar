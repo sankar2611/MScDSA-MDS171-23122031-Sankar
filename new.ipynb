{
 "cells": [
  {
   "cell_type": "code",
   "execution_count": 1,
   "metadata": {},
   "outputs": [
    {
     "name": "stdout",
     "output_type": "stream",
     "text": [
      "The mean of the list 542.94\n",
      "The minimum number is 17\n",
      "The maximum number is 999\n",
      "The range of the number is 982\n"
     ]
    }
   ],
   "source": [
    "a = [761, 123, 585, 275, 194, 840, 999, 622, 763, 40, 825, 687, 402, 338, 611, 987, 739, 95, 819, 568, 320, 126, 688, 948, 514, 223, 751, 379, 857, 767, 492, 162, 437, 934, 430, 343, 725, 511, 580, 678, 708, 823, 346, 179, 786, 663, 195, 890, 267, 502, 214, 300, 786, 961, 235, 559, 992, 919, 948, 318, 57, 787, 653, 317, 305, 172, 966, 182, 970, 17, 89, 624, 629, 595, 485, 752, 984, 978, 460, 124, 321, 256, 614, 852, 811, 561, 127, 207, 406, 615, 888, 391, 691, 470, 911, 401, 137, 600, 478, 682]\n",
    "\n",
    "sum = 0\n",
    "count = 0\n",
    "for i in a:\n",
    "   count = count + 1\n",
    "   sum += int(i)\n",
    "\n",
    "\n",
    "def mean():\n",
    "    m = sum/count\n",
    "    print(\"The mean of the list\",m)\n",
    "mean()\n",
    "\n",
    "def minimum(x):\n",
    "    q= a[0]\n",
    "    for i in x:\n",
    "        if i<q:\n",
    "            q=i\n",
    "    return q\n",
    "print(\"The minimum number is\",minimum(a))\n",
    "\n",
    "\n",
    "def maximum(x):\n",
    "    l= a[0]\n",
    "    for i in x:\n",
    "        if i>l:\n",
    "            l=i\n",
    "    return l\n",
    "print(\"The maximum number is\",maximum(a))\n",
    "\n",
    "def ranges():\n",
    "    r = maximum(a)-minimum(a)\n",
    "    print(\"The range of the number is\",r)\n",
    "ranges()"
   ]
  },
  {
   "cell_type": "code",
   "execution_count": 2,
   "metadata": {},
   "outputs": [
    {
     "data": {
      "text/plain": [
       "17"
      ]
     },
     "execution_count": 2,
     "metadata": {},
     "output_type": "execute_result"
    }
   ],
   "source": [
    "min(a)"
   ]
  },
  {
   "cell_type": "code",
   "execution_count": null,
   "metadata": {},
   "outputs": [],
   "source": []
  }
 ],
 "metadata": {
  "kernelspec": {
   "display_name": "Python 3",
   "language": "python",
   "name": "python3"
  },
  "language_info": {
   "codemirror_mode": {
    "name": "ipython",
    "version": 3
   },
   "file_extension": ".py",
   "mimetype": "text/x-python",
   "name": "python",
   "nbconvert_exporter": "python",
   "pygments_lexer": "ipython3",
   "version": "3.11.4"
  },
  "orig_nbformat": 4
 },
 "nbformat": 4,
 "nbformat_minor": 2
}
